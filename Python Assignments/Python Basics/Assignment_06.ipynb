{
 "cells": [
  {
   "cell_type": "markdown",
   "id": "275f1f51",
   "metadata": {},
   "source": [
    "## Assignment 06"
   ]
  },
  {
   "cell_type": "markdown",
   "id": "0817fad5",
   "metadata": {},
   "source": [
    "#### 1. What are escape characters, and how do you use them?"
   ]
  },
  {
   "cell_type": "markdown",
   "id": "770a7b48",
   "metadata": {},
   "source": [
    "**Ans:** Escape characters represent characters in string values that would otherwise be difficult or impossible to type into code. we can use the backslash character to escape a single character or symbol.\n",
    "Example: `\\t, \\n`"
   ]
  },
  {
   "cell_type": "markdown",
   "id": "ce49980e",
   "metadata": {},
   "source": [
    "#### 2. What do the escape characters n and t stand for?"
   ]
  },
  {
   "cell_type": "markdown",
   "id": "d82d6874",
   "metadata": {},
   "source": [
    "**Ans:** `\\n` is for newline, `\\t` is for tab."
   ]
  },
  {
   "cell_type": "markdown",
   "id": "893e17c8",
   "metadata": {},
   "source": [
    "#### 3. What is the way to include backslash characters in a string?"
   ]
  },
  {
   "cell_type": "markdown",
   "id": "bb4270fd",
   "metadata": {},
   "source": [
    "**Ans:** The `\\\\` escape character will represent the backslash character in a string."
   ]
  },
  {
   "cell_type": "markdown",
   "id": "cd45f736",
   "metadata": {},
   "source": [
    "#### 4. The string \"Howl's Moving Castle\" is a correct value. Why isn't the single quote character in the word Howl's not escaped a problem ?"
   ]
  },
  {
   "cell_type": "markdown",
   "id": "89ecf8c0",
   "metadata": {},
   "source": [
    "**Ans:** The string \"Howl's Moving Castle\" escaped the problem because it is wrapped inside double quotes. If it is wrapped inside single quotes then we have to use escape character `\\'` to show single quote in the final output.<br>\n",
    "`'Howl\\'s Moving Castle' -> 'Howl's Moving Castle'`"
   ]
  },
  {
   "cell_type": "markdown",
   "id": "dfae3bd0",
   "metadata": {},
   "source": [
    "#### 5. How do you write a string of newlines if you don't want to use the n character?"
   ]
  },
  {
   "cell_type": "markdown",
   "id": "979217a0",
   "metadata": {},
   "source": [
    "**Ans:** Multiline string allow you to use newlines in string without the \\n escape character."
   ]
  },
  {
   "cell_type": "code",
   "execution_count": 1,
   "id": "056a3c6c",
   "metadata": {},
   "outputs": [
    {
     "name": "stdout",
     "output_type": "stream",
     "text": [
      "Hello I'm Shubham Paliwal\n",
      "I am from Jaipur\n"
     ]
    }
   ],
   "source": [
    "# Example:\n",
    "aa = '''Hello I'm Shubham Paliwal\n",
    "I am from Jaipur'''\n",
    "print(aa)"
   ]
  },
  {
   "cell_type": "markdown",
   "id": "a41f7155",
   "metadata": {},
   "source": [
    "#### 6. What are the values of the given expressions ?"
   ]
  },
  {
   "cell_type": "markdown",
   "id": "caa29424",
   "metadata": {},
   "source": [
    "'Hello, world!'[1]<br>\n",
    "'Hello, world!'[0:5]<br>\n",
    "'Hello, world!'[:5]<br>\n",
    "'Hello, world!'[3:]"
   ]
  },
  {
   "cell_type": "markdown",
   "id": "e13cdcb3",
   "metadata": {},
   "source": [
    "**Ans:** The values for the given expressions are:<br>\n",
    "'Hello, world!'[1] `->` `'e'`<br>\n",
    "'Hello, world!'[0:5] `->` `'Hello'`<br>\n",
    "'Hello, world!'[:5] `->` `'Hello'`<br>\n",
    "'Hello, world!'[3:] `->` `'lo, world!'`"
   ]
  },
  {
   "cell_type": "markdown",
   "id": "5f4da151",
   "metadata": {},
   "source": [
    "#### 7. What are the values of the following expressions ?"
   ]
  },
  {
   "cell_type": "markdown",
   "id": "80e8a04b",
   "metadata": {},
   "source": [
    "'Hello'.upper()<br>\n",
    "'Hello'.upper().isupper()<br>\n",
    "'Hello'.upper().lower()"
   ]
  },
  {
   "cell_type": "markdown",
   "id": "bb04fb08",
   "metadata": {},
   "source": [
    "**Ans:** The values for the given expressions are:<br>\n",
    "'Hello'.upper() `->` `'HELLO'`<br>\n",
    "'Hello'.upper().isupper() `->` `True`<br>\n",
    "'Hello'.upper().lower() `->` `'hello'`"
   ]
  },
  {
   "cell_type": "markdown",
   "id": "06deaaf1",
   "metadata": {},
   "source": [
    "#### 8. What are the values of the following expressions ?"
   ]
  },
  {
   "cell_type": "markdown",
   "id": "80f07108",
   "metadata": {},
   "source": [
    "'Remember, remember, the fifith of July.'.split()<br>\n",
    "'-'.join('There can only one'.split())"
   ]
  },
  {
   "cell_type": "markdown",
   "id": "72a069fa",
   "metadata": {},
   "source": [
    "**Ans:** The values for the given expressions are:<br>\n",
    "'Remember, remember, the fifith of July.'.split() `->` `['Remember,', 'remember,', 'the', 'fifith', 'of', 'July.']`<br>\n",
    "'-'.join('There can only one'.split()) `->` `'There-can-only-one'`"
   ]
  },
  {
   "cell_type": "markdown",
   "id": "60a7560d",
   "metadata": {},
   "source": [
    "#### 9. What are the methods for right-justifying, left-justifying and centering a string ?"
   ]
  },
  {
   "cell_type": "markdown",
   "id": "585a2c94",
   "metadata": {},
   "source": [
    "**Ans:** The `rjust()`, `ljust()`, `center()` string methods, respectively."
   ]
  },
  {
   "cell_type": "markdown",
   "id": "b4788791",
   "metadata": {},
   "source": [
    "#### 10. What is the best way to remove whitespace characters from the start or end ?"
   ]
  },
  {
   "cell_type": "markdown",
   "id": "04926b2d",
   "metadata": {},
   "source": [
    "**Ans:** The `lstrip()` and `rstrip()` methods remove whitesapce characters from the left and right ends of a string respectively."
   ]
  }
 ],
 "metadata": {
  "kernelspec": {
   "display_name": "Python 3 (ipykernel)",
   "language": "python",
   "name": "python3"
  },
  "language_info": {
   "codemirror_mode": {
    "name": "ipython",
    "version": 3
   },
   "file_extension": ".py",
   "mimetype": "text/x-python",
   "name": "python",
   "nbconvert_exporter": "python",
   "pygments_lexer": "ipython3",
   "version": "3.9.7"
  }
 },
 "nbformat": 4,
 "nbformat_minor": 5
}
