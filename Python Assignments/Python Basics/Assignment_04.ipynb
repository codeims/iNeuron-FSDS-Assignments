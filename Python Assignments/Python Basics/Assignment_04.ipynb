{
 "cells": [
  {
   "cell_type": "markdown",
   "id": "df911bd9",
   "metadata": {},
   "source": [
    "## Assignment 04"
   ]
  },
  {
   "cell_type": "markdown",
   "id": "ac0ba092",
   "metadata": {},
   "source": [
    "#### 1. What exactly is [ ]?"
   ]
  },
  {
   "cell_type": "markdown",
   "id": "b7c1ac79",
   "metadata": {},
   "source": [
    "**Ans:** This is the empty list and it is represented by [ ] is a list that contains no items."
   ]
  },
  {
   "cell_type": "markdown",
   "id": "406da7f4",
   "metadata": {},
   "source": [
    "#### 2. In a list of values stored in a variable called spam, how would you assign the value &#39;hello&#39; as the third value? (Assume [2, 4, 6, 8, 10] are in spam.)"
   ]
  },
  {
   "cell_type": "markdown",
   "id": "d0fa4516",
   "metadata": {},
   "source": [
    "**Ans:** spam[2]='hello'"
   ]
  },
  {
   "cell_type": "code",
   "execution_count": 3,
   "id": "3cb5a02f",
   "metadata": {},
   "outputs": [
    {
     "name": "stdout",
     "output_type": "stream",
     "text": [
      "Before assigning the value:\n",
      "[2, 4, 6, 8, 10]\n",
      "\n",
      "After assigning the value:\n",
      "[2, 4, 'hello', 8, 10]\n"
     ]
    }
   ],
   "source": [
    "# Example:\n",
    "print(\"Before assigning the value:\")\n",
    "spam = [2, 4, 6, 8, 10]\n",
    "print(spam)\n",
    "print(\"\\nAfter assigning the value:\")\n",
    "spam[2] = 'hello'\n",
    "print(spam)"
   ]
  },
  {
   "cell_type": "markdown",
   "id": "04d91fc2",
   "metadata": {},
   "source": [
    "### Let's pretend the spam includes the list [&#39;a&#39;, &#39;b&#39;, &#39;c&#39;, &#39;d&#39;] for the next three queries."
   ]
  },
  {
   "cell_type": "markdown",
   "id": "c911f929",
   "metadata": {},
   "source": [
    "#### 3. What is the value of spam[int(int('3' * 2) / 11)]?"
   ]
  },
  {
   "cell_type": "markdown",
   "id": "7cf75955",
   "metadata": {},
   "source": [
    "**Ans:** 'd' (Note that '3' * 2 is the string '33', which is passed to int() before being divided by 11. This eventually evaluates to 3, spam[3] is equal to d.)"
   ]
  },
  {
   "cell_type": "code",
   "execution_count": 4,
   "id": "b563b249",
   "metadata": {},
   "outputs": [
    {
     "name": "stdout",
     "output_type": "stream",
     "text": [
      "d\n"
     ]
    }
   ],
   "source": [
    "spam = ['a', 'b', 'c', 'd']\n",
    "print(spam[int(int('3' * 2) // 11)])"
   ]
  },
  {
   "cell_type": "markdown",
   "id": "91adf46e",
   "metadata": {},
   "source": [
    "#### 4. What is the value of spam[-1]?"
   ]
  },
  {
   "cell_type": "markdown",
   "id": "d653271e",
   "metadata": {},
   "source": [
    "**Ans:** The value of spam[-1] is 'd' because lists supports negative indexing, hence 'd' is available at the index -1."
   ]
  },
  {
   "cell_type": "code",
   "execution_count": 5,
   "id": "64078f83",
   "metadata": {},
   "outputs": [
    {
     "data": {
      "text/plain": [
       "'d'"
      ]
     },
     "execution_count": 5,
     "metadata": {},
     "output_type": "execute_result"
    }
   ],
   "source": [
    "# Example:\n",
    "spam = ['a', 'b', 'c', 'd']\n",
    "spam[-1]"
   ]
  },
  {
   "cell_type": "markdown",
   "id": "0969199f",
   "metadata": {},
   "source": [
    "#### 5. What is the value of spam[:2]?"
   ]
  },
  {
   "cell_type": "markdown",
   "id": "1c89f496",
   "metadata": {},
   "source": [
    "**Ans:** spam[:2] returns all elements in the list spam from the index 0 to 2 excluding 2."
   ]
  },
  {
   "cell_type": "code",
   "execution_count": 6,
   "id": "3385f6f6",
   "metadata": {},
   "outputs": [
    {
     "data": {
      "text/plain": [
       "['a', 'b']"
      ]
     },
     "execution_count": 6,
     "metadata": {},
     "output_type": "execute_result"
    }
   ],
   "source": [
    "spam[:2]"
   ]
  },
  {
   "cell_type": "markdown",
   "id": "4ded5848",
   "metadata": {},
   "source": [
    "### Let's pretend bacon has the list [3.14, 'cat', 11, 'cat', True] for the next three questions."
   ]
  },
  {
   "cell_type": "markdown",
   "id": "bbe15c12",
   "metadata": {},
   "source": [
    "#### 6. What is the value of bacon.index(&#39;cat&#39;)?"
   ]
  },
  {
   "cell_type": "markdown",
   "id": "a154a61e",
   "metadata": {},
   "source": [
    "**Ans:** The value of bacon.index('cat') is 1, because 'cat' is available in the list at the index 1. (Note: index method returns the index of first occuerence of 'cat')"
   ]
  },
  {
   "cell_type": "code",
   "execution_count": 13,
   "id": "c61a73ed",
   "metadata": {},
   "outputs": [
    {
     "data": {
      "text/plain": [
       "1"
      ]
     },
     "execution_count": 13,
     "metadata": {},
     "output_type": "execute_result"
    }
   ],
   "source": [
    "# Example:\n",
    "bacon = [3.14, 'cat', 11, 'cat', True]\n",
    "bacon.index('cat')"
   ]
  },
  {
   "cell_type": "markdown",
   "id": "610e3dfc",
   "metadata": {},
   "source": [
    "#### 7. How does bacon.append(99) change the look of the list value in bacon?"
   ]
  },
  {
   "cell_type": "markdown",
   "id": "f31281a8",
   "metadata": {},
   "source": [
    "**Ans:** The append method adds new elements to the end of the list"
   ]
  },
  {
   "cell_type": "code",
   "execution_count": 14,
   "id": "6a28755a",
   "metadata": {},
   "outputs": [
    {
     "name": "stdout",
     "output_type": "stream",
     "text": [
      "[3.14, 'cat', 11, 'cat', True]\n",
      "[3.14, 'cat', 11, 'cat', True, 99]\n"
     ]
    }
   ],
   "source": [
    "# Example:\n",
    "print(bacon)\n",
    "bacon.append(99)\n",
    "print(bacon)"
   ]
  },
  {
   "cell_type": "markdown",
   "id": "211bf694",
   "metadata": {},
   "source": [
    "#### 8. How does bacon.remove('cat') change the look of the list in bacon?"
   ]
  },
  {
   "cell_type": "markdown",
   "id": "0fb7850f",
   "metadata": {},
   "source": [
    "**Ans:** The remove method removes the first occurence of the element in the list."
   ]
  },
  {
   "cell_type": "code",
   "execution_count": 15,
   "id": "0f166b9a",
   "metadata": {},
   "outputs": [
    {
     "name": "stdout",
     "output_type": "stream",
     "text": [
      "[3.14, 'cat', 11, 'cat', True, 99]\n",
      "[3.14, 11, 'cat', True, 99]\n"
     ]
    }
   ],
   "source": [
    "# Example:\n",
    "print(bacon)\n",
    "bacon.remove('cat')\n",
    "print(bacon)"
   ]
  },
  {
   "cell_type": "markdown",
   "id": "1fad22eb",
   "metadata": {},
   "source": [
    "#### 9. What are the list concatenation and list replication operators?"
   ]
  },
  {
   "cell_type": "markdown",
   "id": "a4878573",
   "metadata": {},
   "source": [
    "**Ans:** The operator for list concatenation is +, while the operator for replication is *."
   ]
  },
  {
   "cell_type": "code",
   "execution_count": 17,
   "id": "058da026",
   "metadata": {},
   "outputs": [
    {
     "name": "stdout",
     "output_type": "stream",
     "text": [
      "List Concatenation:\n",
      "['Shubh', 'Data', 'AI', 'Python', 'Learning', 'Art', 'Science', 'Machine']\n",
      "\n",
      "List Replication\n",
      "['Art', 'Science', 'Machine', 'Art', 'Science', 'Machine']\n"
     ]
    }
   ],
   "source": [
    "# Example\n",
    "list1 = ['Shubh', 'Data', 'AI', 'Python', 'Learning']\n",
    "list2 = ['Art', 'Science', 'Machine']\n",
    "print(\"List Concatenation:\")\n",
    "print(list1 + list2)\n",
    "print(\"\\nList Replication\")\n",
    "print(list2 * 2)"
   ]
  },
  {
   "cell_type": "markdown",
   "id": "580ab237",
   "metadata": {},
   "source": [
    "#### 10. What is difference between the list methods append() and insert()?"
   ]
  },
  {
   "cell_type": "markdown",
   "id": "decf4ae0",
   "metadata": {},
   "source": [
    "**Ans:** The append() method will add values only to the end of the list, while insert() method can add them anywhere in the list."
   ]
  },
  {
   "cell_type": "code",
   "execution_count": 18,
   "id": "f00a6f76",
   "metadata": {},
   "outputs": [
    {
     "name": "stdout",
     "output_type": "stream",
     "text": [
      "append() Method:\n",
      "['Ai', 'Data', 'Machine', 'Learning', 'Deep Learning']\n",
      "\n",
      "insert() Method:\n",
      "['Ai', 'Python', 'Data', 'Machine', 'Learning', 'Deep Learning']\n"
     ]
    }
   ],
   "source": [
    "#Example\n",
    "list1 = [\"Ai\", \"Data\", \"Machine\", \"Learning\"]\n",
    "list1.append(\"Deep Learning\")\n",
    "print(\"append() Method:\")\n",
    "print(list1)\n",
    "list1.insert(1, \"Python\")\n",
    "print(\"\\ninsert() Method:\")\n",
    "print(list1)"
   ]
  },
  {
   "cell_type": "markdown",
   "id": "a2c3099e",
   "metadata": {},
   "source": [
    "#### 11. What are the two methods for removing items from a list?"
   ]
  },
  {
   "cell_type": "markdown",
   "id": "7347d91b",
   "metadata": {},
   "source": [
    "**Ans:** The del method and the remove() method are two ways to remove values from the list."
   ]
  },
  {
   "cell_type": "markdown",
   "id": "4d62bbf7",
   "metadata": {},
   "source": [
    "#### 12. Describe how list values and string values are identical."
   ]
  },
  {
   "cell_type": "markdown",
   "id": "3748311e",
   "metadata": {},
   "source": [
    "**Ans:** Both lists and strings can be passed to len() function, have indexes and slices, be used in for loops, be concatenated or replicated, and be used with the in and not in operators."
   ]
  },
  {
   "cell_type": "markdown",
   "id": "10f7c3a1",
   "metadata": {},
   "source": [
    "#### 13. What's the difference between tuples and lists?"
   ]
  },
  {
   "cell_type": "markdown",
   "id": "b3d98248",
   "metadata": {},
   "source": [
    "**Ans:** Lists are mutable, indexable and slicable. They can have values added, removed, or changed. Tuples are immutable but indexable and slicable. The tuple values cannot be changed at all. Also, tuples are represented using parentheses (), while lists uses the square brackets []."
   ]
  },
  {
   "cell_type": "markdown",
   "id": "9462bbd4",
   "metadata": {},
   "source": [
    "#### 14. How do you type a tuple value that only contains the integer 42?"
   ]
  },
  {
   "cell_type": "markdown",
   "id": "1b8d1ee2",
   "metadata": {},
   "source": [
    "**Ans:** I will use the comma after the 42. The trailing comma is mandatory, otherwise its considered as a integer by python."
   ]
  },
  {
   "cell_type": "code",
   "execution_count": 20,
   "id": "cce5badf",
   "metadata": {},
   "outputs": [
    {
     "name": "stdout",
     "output_type": "stream",
     "text": [
      "<class 'int'>\n",
      "<class 'tuple'>\n"
     ]
    }
   ],
   "source": [
    "t = (42)\n",
    "t2 = (42,)\n",
    "print(type(t))\n",
    "print(type(t2))"
   ]
  },
  {
   "cell_type": "markdown",
   "id": "e4d95d09",
   "metadata": {},
   "source": [
    "#### 15. How do you get a list value's tuple form? How do you get a tuple value's list form?"
   ]
  },
  {
   "cell_type": "markdown",
   "id": "4b61f6ac",
   "metadata": {},
   "source": [
    "**Ans:** The tuple() and list() functions, respectively are used to convert a list to tuple and vice versa."
   ]
  },
  {
   "cell_type": "markdown",
   "id": "757fb4bf",
   "metadata": {},
   "source": [
    "#### 16. Variables that \"contain\" list values are not necessarily lists themselves. Instead, what do they contain?"
   ]
  },
  {
   "cell_type": "markdown",
   "id": "5221e880",
   "metadata": {},
   "source": [
    "**Ans:** They contain references to list values."
   ]
  },
  {
   "cell_type": "markdown",
   "id": "0b9a64c5",
   "metadata": {},
   "source": [
    "#### 17. How do you distinguish between copy.copy() and copy.deepcopy()?"
   ]
  },
  {
   "cell_type": "markdown",
   "id": "e6500344",
   "metadata": {},
   "source": [
    "**Ans:** The copy.copy() function will do a shallow copy of a list, while the copy.deepcopy() function will do a deep copy of a list. That is, only copy.deepcopy() will duplicate any lists inside the list."
   ]
  }
 ],
 "metadata": {
  "kernelspec": {
   "display_name": "Python 3 (ipykernel)",
   "language": "python",
   "name": "python3"
  },
  "language_info": {
   "codemirror_mode": {
    "name": "ipython",
    "version": 3
   },
   "file_extension": ".py",
   "mimetype": "text/x-python",
   "name": "python",
   "nbconvert_exporter": "python",
   "pygments_lexer": "ipython3",
   "version": "3.9.7"
  }
 },
 "nbformat": 4,
 "nbformat_minor": 5
}
