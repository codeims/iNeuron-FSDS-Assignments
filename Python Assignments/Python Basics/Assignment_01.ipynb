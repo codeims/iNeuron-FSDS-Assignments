{
 "cells": [
  {
   "cell_type": "markdown",
   "id": "f0fb0d31",
   "metadata": {},
   "source": [
    "## Assignment 01"
   ]
  },
  {
   "cell_type": "markdown",
   "id": "cd0c2968",
   "metadata": {},
   "source": [
    "#### 1. In the below elements which of them are values or an expression? eg:- values can be integer or string and expressions will be mathematical operators.\n",
    "*, 'hello', -87.8, -, /, +, 6"
   ]
  },
  {
   "cell_type": "markdown",
   "id": "28bbe38d",
   "metadata": {},
   "source": [
    "**Ans:** There are four expressions and three values, They are:\n",
    "\n",
    "Expressions: *, -, /, + <br>\n",
    "Values: 'hello', -87.8, 6"
   ]
  },
  {
   "cell_type": "markdown",
   "id": "ac4d9582",
   "metadata": {},
   "source": [
    "#### 2. What is the difference between string and variable?"
   ]
  },
  {
   "cell_type": "markdown",
   "id": "bcb71726",
   "metadata": {},
   "source": [
    "**Ans:** The main difference between string and variable is: A variable is like a container which stores the information and a string is a type of information, it can be stored in a variable. A string is usually words, enclosed with 'single' quotes or with \"double\" quotes. The = symbol is known as the assignment operator. It is also possible to declare a variable and assign it a value in the same line."
   ]
  },
  {
   "cell_type": "markdown",
   "id": "6aec5b59",
   "metadata": {},
   "source": [
    "#### 3. Describe three different data types."
   ]
  },
  {
   "cell_type": "markdown",
   "id": "ce044d17",
   "metadata": {},
   "source": [
    "**Ans:** There are eight Built-in data types in python, I'm going to describe three of these:\n",
    "1. Text type: str\n",
    "This data type are usually words enclosed with 'single' quotes or with \"double\" quotes.\n",
    "\n",
    "2. Numeric type: int, float and complex data types are usually numbers e.g.:-\n",
    "x = 20 ----- int\n",
    "x = 20.5 ---- float\n",
    "x = 20j ---- complex\n",
    "\n",
    "3. Sequence type: list, tuple, range are Sequence Data Types are used to store data in containers in the Python computer language."
   ]
  },
  {
   "cell_type": "markdown",
   "id": "704f5b32",
   "metadata": {},
   "source": [
    "#### 4. What is an expression made up of? What do all expressions do?"
   ]
  },
  {
   "cell_type": "markdown",
   "id": "eb7d9d66",
   "metadata": {},
   "source": [
    "**Ans:** An expression is a construct made up of variables, operators, and method invocations, which are constructed according to the syntax of the language, that evaluates to a single value. Expressions are representations of value."
   ]
  },
  {
   "cell_type": "markdown",
   "id": "2c52122d",
   "metadata": {},
   "source": [
    "#### 5. This assignment statements, like spam = 10. What is the difference between an expression and a statement?"
   ]
  },
  {
   "cell_type": "markdown",
   "id": "e9dab675",
   "metadata": {},
   "source": [
    "**Ans:** An expression is any legal combination of symbols that represents a value. For example: 2.9, a + 5, (3 + 5) / 4. A statement is a programming instruction that does something i.e. some action takes place. For example: print(\"Hello World!\")"
   ]
  },
  {
   "cell_type": "markdown",
   "id": "597f2374",
   "metadata": {},
   "source": [
    "#### 6. After running the following code, what does the variable bacon contain?"
   ]
  },
  {
   "cell_type": "code",
   "execution_count": 3,
   "id": "9680a5bf",
   "metadata": {},
   "outputs": [
    {
     "data": {
      "text/plain": [
       "23"
      ]
     },
     "execution_count": 3,
     "metadata": {},
     "output_type": "execute_result"
    }
   ],
   "source": [
    "bacon = 22\n",
    "bacon + 1"
   ]
  },
  {
   "cell_type": "markdown",
   "id": "0d3b4ddd",
   "metadata": {},
   "source": [
    "**Ans:** The variable bacon contains 22, after running the code above."
   ]
  },
  {
   "cell_type": "markdown",
   "id": "9ea44667",
   "metadata": {},
   "source": [
    "#### 7. What should the values of the following two terms be?"
   ]
  },
  {
   "cell_type": "markdown",
   "id": "36157255",
   "metadata": {},
   "source": [
    "'spam' + 'spamspam' <br>\n",
    "'spam' * 3"
   ]
  },
  {
   "cell_type": "markdown",
   "id": "faf3bcce",
   "metadata": {},
   "source": [
    "**Ans:** The values of two terms will be same."
   ]
  },
  {
   "cell_type": "code",
   "execution_count": 14,
   "id": "9ad22b23",
   "metadata": {},
   "outputs": [
    {
     "data": {
      "text/plain": [
       "'spamspamspam'"
      ]
     },
     "execution_count": 14,
     "metadata": {},
     "output_type": "execute_result"
    }
   ],
   "source": [
    "'spam' + 'spamspam'"
   ]
  },
  {
   "cell_type": "code",
   "execution_count": 15,
   "id": "b23a82f8",
   "metadata": {},
   "outputs": [
    {
     "data": {
      "text/plain": [
       "'spamspamspam'"
      ]
     },
     "execution_count": 15,
     "metadata": {},
     "output_type": "execute_result"
    }
   ],
   "source": [
    "'spam' * 3"
   ]
  },
  {
   "cell_type": "markdown",
   "id": "fdcc6444",
   "metadata": {},
   "source": [
    "#### 8. Why is eggs a valid variable name while 100 is invalid?"
   ]
  },
  {
   "cell_type": "markdown",
   "id": "85a37207",
   "metadata": {},
   "source": [
    "**Ans:** eggs is a valid variable name while 100 is invalid bacause, variable name eggs is starting with alphabate 'e' while variable name 100 is starting with numerical value 1. The variable name should not start with a number."
   ]
  },
  {
   "cell_type": "markdown",
   "id": "5427a66c",
   "metadata": {},
   "source": [
    "#### 9.  What three functions can be used to get the integer, floating-point number, or string version of a value?"
   ]
  },
  {
   "cell_type": "markdown",
   "id": "e673b087",
   "metadata": {},
   "source": [
    "**Ans:** The int() , float() , and str( ) functions will evaluate to the integer, floating-point number, and string versions of the value passed to them."
   ]
  },
  {
   "cell_type": "markdown",
   "id": "65c0b20a",
   "metadata": {},
   "source": [
    "#### 10. Why does this expression cause an error? How can you fix it?"
   ]
  },
  {
   "cell_type": "markdown",
   "id": "3ca7fce9",
   "metadata": {},
   "source": [
    "'I have eaten ' + 99 + ' burritos.' "
   ]
  },
  {
   "cell_type": "markdown",
   "id": "e11a8448",
   "metadata": {},
   "source": [
    "**Ans:** This expression cause me an error bacause string and integer can not be concatenate with each other. I can fix it with typecasting operation using str() function or I'll put 99 in single quotes or double quotes."
   ]
  },
  {
   "cell_type": "code",
   "execution_count": 21,
   "id": "970b12e8",
   "metadata": {},
   "outputs": [
    {
     "data": {
      "text/plain": [
       "'I have eaten 99 burritos'"
      ]
     },
     "execution_count": 21,
     "metadata": {},
     "output_type": "execute_result"
    }
   ],
   "source": [
    "'I have eaten ' + str(99) + ' burritos'"
   ]
  },
  {
   "cell_type": "code",
   "execution_count": 22,
   "id": "181e2c7f",
   "metadata": {},
   "outputs": [
    {
     "data": {
      "text/plain": [
       "'I have eaten 99 burritos'"
      ]
     },
     "execution_count": 22,
     "metadata": {},
     "output_type": "execute_result"
    }
   ],
   "source": [
    "'I have eaten ' + '99' + ' burritos'"
   ]
  },
  {
   "cell_type": "markdown",
   "id": "b816e5ff",
   "metadata": {},
   "source": [
    "Both are same."
   ]
  }
 ],
 "metadata": {
  "kernelspec": {
   "display_name": "Python 3 (ipykernel)",
   "language": "python",
   "name": "python3"
  },
  "language_info": {
   "codemirror_mode": {
    "name": "ipython",
    "version": 3
   },
   "file_extension": ".py",
   "mimetype": "text/x-python",
   "name": "python",
   "nbconvert_exporter": "python",
   "pygments_lexer": "ipython3",
   "version": "3.9.7"
  }
 },
 "nbformat": 4,
 "nbformat_minor": 5
}
