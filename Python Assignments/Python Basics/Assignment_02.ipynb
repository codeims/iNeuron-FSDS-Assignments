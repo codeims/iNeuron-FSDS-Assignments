{
 "cells": [
  {
   "cell_type": "markdown",
   "id": "4762bcd1",
   "metadata": {},
   "source": [
    "## Assignment 02"
   ]
  },
  {
   "cell_type": "markdown",
   "id": "25965821",
   "metadata": {},
   "source": [
    "#### 1. 1.What are the two values of the Boolean data type? How do you write them?"
   ]
  },
  {
   "cell_type": "markdown",
   "id": "c7d03f02",
   "metadata": {},
   "source": [
    "**Ans:** Boolean data type have two values: True and False"
   ]
  },
  {
   "cell_type": "code",
   "execution_count": 1,
   "id": "8efe86c7",
   "metadata": {},
   "outputs": [
    {
     "name": "stdout",
     "output_type": "stream",
     "text": [
      "True : <class 'bool'>\n",
      "False : <class 'bool'>\n"
     ]
    }
   ],
   "source": [
    "a = True\n",
    "b = False\n",
    "print(a, ':', type(a))\n",
    "print(b, ':', type(b))"
   ]
  },
  {
   "cell_type": "markdown",
   "id": "06e58851",
   "metadata": {},
   "source": [
    "#### 2. What are the three different types of Boolean operators?"
   ]
  },
  {
   "cell_type": "markdown",
   "id": "c8c5c8c9",
   "metadata": {},
   "source": [
    "**Ans:** The three types of Boolean operators in python are: or, and, not"
   ]
  },
  {
   "cell_type": "code",
   "execution_count": 2,
   "id": "9b67c037",
   "metadata": {},
   "outputs": [
    {
     "name": "stdout",
     "output_type": "stream",
     "text": [
      "False\n",
      "True\n",
      "False\n"
     ]
    }
   ],
   "source": [
    "x = 100\n",
    "y = 250\n",
    "print(x > 80 and y < 100) # Example of boolean 'and'\n",
    "print(x > 50 or y < 100) # Example of boolean 'or'\n",
    "print(not(x > 50)) # Example of boolean 'not'"
   ]
  },
  {
   "cell_type": "markdown",
   "id": "35a13dd4",
   "metadata": {},
   "source": [
    "#### 3. Make a list of each Boolean operator&#39;s truth tables (i.e. every possible combination of Boolean values for the operator and what it evaluate )."
   ]
  },
  {
   "cell_type": "markdown",
   "id": "017639ec",
   "metadata": {},
   "source": [
    "**Ans:** Truth table of each boolean operator's:"
   ]
  },
  {
   "cell_type": "markdown",
   "id": "cd1db743",
   "metadata": {},
   "source": [
    "**1. Truth table of 'and' operator**<br>\n",
    "True and True is 'True'<br>\n",
    "True and False is 'False'<br>\n",
    "False and True is 'False'<br>\n",
    "False and False is 'False'<br>"
   ]
  },
  {
   "cell_type": "markdown",
   "id": "32f2bcb6",
   "metadata": {},
   "source": [
    "**2. Truth table of 'or' operator**<br>\n",
    "True or True is 'True'<br>\n",
    "True or False is 'True'<br>\n",
    "False or True is 'True'<br>\n",
    "False or False is 'False'<br>"
   ]
  },
  {
   "cell_type": "markdown",
   "id": "c73d76ad",
   "metadata": {},
   "source": [
    "**3. Truth table of 'not' operator**<br>\n",
    "True not is 'False'<br>\n",
    "False not is 'Ture'"
   ]
  },
  {
   "cell_type": "markdown",
   "id": "5eed6694",
   "metadata": {},
   "source": [
    "#### 4. What are the values of the following expressions?"
   ]
  },
  {
   "cell_type": "markdown",
   "id": "4b72e27a",
   "metadata": {},
   "source": [
    "(5 > 4) and (3 == 5)<br>\n",
    "not (5 > 4)<br>\n",
    "(5 > 4) or (3 == 5)<br>\n",
    "not ((5 > 4) or (3 == 5))<br>\n",
    "(True and True) and (True == False)<br>\n",
    "(not False) or (not True)"
   ]
  },
  {
   "cell_type": "markdown",
   "id": "d64e5277",
   "metadata": {},
   "source": [
    "**Ans:** The values of the given expression are:"
   ]
  },
  {
   "cell_type": "code",
   "execution_count": 4,
   "id": "ae36d108",
   "metadata": {},
   "outputs": [
    {
     "name": "stdout",
     "output_type": "stream",
     "text": [
      "False\n",
      "False\n",
      "True\n",
      "False\n",
      "False\n",
      "True\n"
     ]
    }
   ],
   "source": [
    "print((5 > 4) and (3 == 5)) # False\n",
    "print(not (5 > 4)) # False\n",
    "print((5 > 4) or (3 == 5)) # True\n",
    "print(not ((5 > 4) or (3 == 5))) # False\n",
    "print((True and True) and (True == False)) # False\n",
    "print((not False) or (not True)) # True"
   ]
  },
  {
   "cell_type": "markdown",
   "id": "10c5c5bf",
   "metadata": {},
   "source": [
    "#### 5. What are the six comparison operators?"
   ]
  },
  {
   "cell_type": "markdown",
   "id": "6c51d5da",
   "metadata": {},
   "source": [
    "**Ans:** The six comparision operators in python are:"
   ]
  },
  {
   "cell_type": "markdown",
   "id": "9ebd5318",
   "metadata": {},
   "source": [
    "==, !=, <, >, <=, =>"
   ]
  },
  {
   "cell_type": "markdown",
   "id": "22612e0a",
   "metadata": {},
   "source": [
    "#### 6. How do you tell the difference between the equal to and assignment operators? Describe a condition and when you would use one."
   ]
  },
  {
   "cell_type": "markdown",
   "id": "d9938b92",
   "metadata": {},
   "source": [
    "**Ans:** '==' is the equal to operator in python that compares two values and evaluates to a boolean, while '=' is the assignment operator that stores a value in a variable."
   ]
  },
  {
   "cell_type": "code",
   "execution_count": 5,
   "id": "c2ede88a",
   "metadata": {},
   "outputs": [
    {
     "name": "stdout",
     "output_type": "stream",
     "text": [
      "True\n"
     ]
    }
   ],
   "source": [
    "a = 3 # This operator assigning the value 3 in the variable 'a'\n",
    "if a == 3: # This operator comparing values of a variable value and '3'\n",
    "    print(a == 3)"
   ]
  },
  {
   "cell_type": "markdown",
   "id": "29f91288",
   "metadata": {},
   "source": [
    "#### 7. Identify the three blocks in this code:"
   ]
  },
  {
   "cell_type": "markdown",
   "id": "6ba238c9",
   "metadata": {},
   "source": [
    "spam = 0 <br>\n",
    "if spam == 10: <br>\n",
    "print('eggs') <br>\n",
    "if spam > 5: <br>\n",
    "print('bacon') <br>\n",
    "else: <br>\n",
    "print('ham') <br>\n",
    "print('spam') <br>\n",
    "print('spam')"
   ]
  },
  {
   "cell_type": "markdown",
   "id": "fd4be1a1",
   "metadata": {},
   "source": [
    "**Ans:** In python, code block refers to a collection of code that is in the same block or indented."
   ]
  },
  {
   "cell_type": "code",
   "execution_count": 7,
   "id": "fedc27d8",
   "metadata": {},
   "outputs": [
    {
     "name": "stdout",
     "output_type": "stream",
     "text": [
      "ham\n",
      "spam\n",
      "spam\n"
     ]
    }
   ],
   "source": [
    "spam = 0\n",
    "if spam == 10:\n",
    "    print('eggs') # Block 1\n",
    "if spam > 5:\n",
    "    print('bacon') # Block 2\n",
    "else:\n",
    "    print('ham') # Block 3\n",
    "print('spam')\n",
    "print('spam')"
   ]
  },
  {
   "cell_type": "markdown",
   "id": "98820752",
   "metadata": {},
   "source": [
    "#### 8. Write code that prints Hello if 1 is stored in spam, prints Howdy if 2 is stored in spam, and prints Greetings! if anything else is stored in spam."
   ]
  },
  {
   "cell_type": "markdown",
   "id": "cd20d2cd",
   "metadata": {},
   "source": [
    "**Ans:**"
   ]
  },
  {
   "cell_type": "code",
   "execution_count": 10,
   "id": "75454a4a",
   "metadata": {},
   "outputs": [
    {
     "name": "stdout",
     "output_type": "stream",
     "text": [
      "Hello\n",
      "Howdy\n",
      "Greetings!\n"
     ]
    }
   ],
   "source": [
    "def spam(a):\n",
    "    if a == 1:\n",
    "        print(\"Hello\")\n",
    "    elif a == 2:\n",
    "        print(\"Howdy\")\n",
    "    else:\n",
    "        print(\"Greetings!\")\n",
    "        \n",
    "spam(1)\n",
    "spam(2)\n",
    "spam(3)"
   ]
  },
  {
   "cell_type": "markdown",
   "id": "f5898516",
   "metadata": {},
   "source": [
    "#### 9.If your programme is stuck in an endless loop, what keys you’ll press?"
   ]
  },
  {
   "cell_type": "markdown",
   "id": "a301567c",
   "metadata": {},
   "source": [
    "**Ans:** Press Ctrl-c to stop a program stuck in an endless loop."
   ]
  },
  {
   "cell_type": "markdown",
   "id": "1352d7bd",
   "metadata": {},
   "source": [
    "#### 10. How can you tell the difference between break and continue?"
   ]
  },
  {
   "cell_type": "markdown",
   "id": "d1e4bf99",
   "metadata": {},
   "source": [
    "**Ans:** The break statement will move the execution outside the loop if break condtion is satisfied, while the continue statement will move the execution to the start of the loop."
   ]
  },
  {
   "cell_type": "markdown",
   "id": "3c15339a",
   "metadata": {},
   "source": [
    "#### 11. In a for loop, what is the difference between range(10), range(0, 10), and range(0, 10, 1)?"
   ]
  },
  {
   "cell_type": "markdown",
   "id": "c6084388",
   "metadata": {},
   "source": [
    "**Ans:** The difference are given below:<br>\n",
    "\n",
    "The range(10) call range from 0 to 9 (but not include 10). <br>\n",
    "The range (0,10) explicitly tells the loop to start at 0. <br>\n",
    "The range(0,10,1) explicitly tells the loop to step the value of variable by 1 on each iteration."
   ]
  },
  {
   "cell_type": "markdown",
   "id": "4cb4f1cb",
   "metadata": {},
   "source": [
    "#### 12. Write a short program that prints the numbers 1 to 10 using a for loop. Then write an equivalent program that prints the numbers 1 to 10 using a while loop ?"
   ]
  },
  {
   "cell_type": "markdown",
   "id": "3ee62719",
   "metadata": {},
   "source": [
    "**Ans:**"
   ]
  },
  {
   "cell_type": "code",
   "execution_count": 11,
   "id": "81f2fee5",
   "metadata": {},
   "outputs": [
    {
     "name": "stdout",
     "output_type": "stream",
     "text": [
      "Using For Loop:\n",
      "1 2 3 4 5 6 7 8 9 10 \n",
      "\n",
      "Using While Loop:\n",
      "1 2 3 4 5 6 7 8 9 10 "
     ]
    }
   ],
   "source": [
    "print('Using For Loop:')\n",
    "for i in range(1,11):\n",
    "    print(i, end=\" \")\n",
    "print('\\n')\n",
    "\n",
    "print('Using While Loop:') \n",
    "i=1\n",
    "while i<=10:\n",
    "    print(i, end=\" \")\n",
    "    i+=1"
   ]
  },
  {
   "cell_type": "markdown",
   "id": "47a6cd8b",
   "metadata": {},
   "source": [
    "#### 13. If you had a function named bacon() inside a module named spam, how would you call it after importing spam?"
   ]
  },
  {
   "cell_type": "markdown",
   "id": "54bd5989",
   "metadata": {},
   "source": [
    "**Ans:** This function can be called with: spam.bacon()"
   ]
  }
 ],
 "metadata": {
  "kernelspec": {
   "display_name": "Python 3 (ipykernel)",
   "language": "python",
   "name": "python3"
  },
  "language_info": {
   "codemirror_mode": {
    "name": "ipython",
    "version": 3
   },
   "file_extension": ".py",
   "mimetype": "text/x-python",
   "name": "python",
   "nbconvert_exporter": "python",
   "pygments_lexer": "ipython3",
   "version": "3.9.7"
  }
 },
 "nbformat": 4,
 "nbformat_minor": 5
}
